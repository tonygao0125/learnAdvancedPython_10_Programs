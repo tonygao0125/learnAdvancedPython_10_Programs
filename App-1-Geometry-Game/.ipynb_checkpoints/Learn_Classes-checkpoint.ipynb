{
 "cells": [
  {
   "cell_type": "markdown",
   "id": "43e19ed5",
   "metadata": {},
   "source": [
    "## <font color =\"blue\"> All Elements of Python\n",
    "* Objects\n",
    "* Identifiers\n",
    "* Operators\n",
    "* Delimiters\n",
    "* Keywords\n",
    "* Comments\n",
    "* Blank Lines\n",
    "* White Space\n",
    "* Indentation\n",
    "\n",
    "##### <u> See below examples:"
   ]
  },
  {
   "cell_type": "code",
   "execution_count": 2,
   "id": "6eefeabc",
   "metadata": {},
   "outputs": [],
   "source": [
    "# All language elements are in this code\n",
    "\n",
    "a = 4\n",
    "b = 5\n",
    "c = [6,7]\n",
    "\n",
    "d = \"Hi\"\n",
    "\"Hello\"\n",
    "\n",
    "def area(x):\n",
    "    return x**2\n",
    "\n",
    "area(3)"
   ]
  },
  {
   "cell_type": "markdown",
   "id": "40ac5de2",
   "metadata": {},
   "source": [
    "- \"Objects\": 4, 5, [6,7], 6, 7, \"Hello\", \"Hi\", function definition, 2, 3, 9 (\"Hello\" is an unassigned object)\n",
    "- \"Identifiers\"(**names for identifying the objects**): a, b, c, d, area, x\n",
    "- \"operators\": **\n",
    "- \"Delimiters\": \"=\", \",\", \"(\", \")\", \":\", \"[\", \"]\" (Note: = IS NOT OPERATOR BUT DELIMITER)\n",
    "- \"Keywords\": def, return\n",
    "- \"Comments\": # All language elements are in this code\n",
    "- Blank lines\n",
    "- White space\n",
    "- Indentation"
   ]
  },
  {
   "cell_type": "markdown",
   "id": "a70cd6bd",
   "metadata": {},
   "source": [
    "---"
   ]
  },
  {
   "cell_type": "markdown",
   "id": "d68cdb7a",
   "metadata": {},
   "source": [
    "## <font color = blue > What is Object?"
   ]
  },
  {
   "cell_type": "code",
   "execution_count": null,
   "id": "c5b6baeb",
   "metadata": {},
   "outputs": [],
   "source": [
    "# pip install folium\n",
    "inty = 5\n",
    "listy = [6,7]\n",
    "stringy = \"Hi\"\n",
    "\n",
    "import folium\n",
    "azores = folium.folium.Map(location =(38, -27), zoom_start = 6)\n",
    "\n",
    "#objects: 5, [6,7], 6, 7, \"Hi\", folium.folium.Map(location =(38, -27), zoom_start = 6), 38, -27, 6"
   ]
  },
  {
   "cell_type": "markdown",
   "id": "15cc5835",
   "metadata": {},
   "source": [
    "<u> All objects have a type:\n",
    "- type(inty) -> int\n",
    "- type(listy) -> list\n",
    "- type(stringy) -> str\n",
    "- type(azores) -> foium.folium.Map"
   ]
  },
  {
   "cell_type": "code",
   "execution_count": 18,
   "id": "e7540331",
   "metadata": {},
   "outputs": [
    {
     "data": {
      "text/html": [
       "<div style=\"width:100%;\"><div style=\"position:relative;width:100%;height:0;padding-bottom:60%;\"><span style=\"color:#565656\">Make this Notebook Trusted to load map: File -> Trust Notebook</span><iframe src=\"about:blank\" style=\"position:absolute;width:100%;height:100%;left:0;top:0;border:none !important;\" data-html=%3C%21DOCTYPE%20html%3E%0A%3Chead%3E%20%20%20%20%0A%20%20%20%20%3Cmeta%20http-equiv%3D%22content-type%22%20content%3D%22text/html%3B%20charset%3DUTF-8%22%20/%3E%0A%20%20%20%20%0A%20%20%20%20%20%20%20%20%3Cscript%3E%0A%20%20%20%20%20%20%20%20%20%20%20%20L_NO_TOUCH%20%3D%20false%3B%0A%20%20%20%20%20%20%20%20%20%20%20%20L_DISABLE_3D%20%3D%20false%3B%0A%20%20%20%20%20%20%20%20%3C/script%3E%0A%20%20%20%20%0A%20%20%20%20%3Cstyle%3Ehtml%2C%20body%20%7Bwidth%3A%20100%25%3Bheight%3A%20100%25%3Bmargin%3A%200%3Bpadding%3A%200%3B%7D%3C/style%3E%0A%20%20%20%20%3Cstyle%3E%23map%20%7Bposition%3Aabsolute%3Btop%3A0%3Bbottom%3A0%3Bright%3A0%3Bleft%3A0%3B%7D%3C/style%3E%0A%20%20%20%20%3Cscript%20src%3D%22https%3A//cdn.jsdelivr.net/npm/leaflet%401.6.0/dist/leaflet.js%22%3E%3C/script%3E%0A%20%20%20%20%3Cscript%20src%3D%22https%3A//code.jquery.com/jquery-1.12.4.min.js%22%3E%3C/script%3E%0A%20%20%20%20%3Cscript%20src%3D%22https%3A//maxcdn.bootstrapcdn.com/bootstrap/3.2.0/js/bootstrap.min.js%22%3E%3C/script%3E%0A%20%20%20%20%3Cscript%20src%3D%22https%3A//cdnjs.cloudflare.com/ajax/libs/Leaflet.awesome-markers/2.0.2/leaflet.awesome-markers.js%22%3E%3C/script%3E%0A%20%20%20%20%3Clink%20rel%3D%22stylesheet%22%20href%3D%22https%3A//cdn.jsdelivr.net/npm/leaflet%401.6.0/dist/leaflet.css%22/%3E%0A%20%20%20%20%3Clink%20rel%3D%22stylesheet%22%20href%3D%22https%3A//maxcdn.bootstrapcdn.com/bootstrap/3.2.0/css/bootstrap.min.css%22/%3E%0A%20%20%20%20%3Clink%20rel%3D%22stylesheet%22%20href%3D%22https%3A//maxcdn.bootstrapcdn.com/bootstrap/3.2.0/css/bootstrap-theme.min.css%22/%3E%0A%20%20%20%20%3Clink%20rel%3D%22stylesheet%22%20href%3D%22https%3A//maxcdn.bootstrapcdn.com/font-awesome/4.6.3/css/font-awesome.min.css%22/%3E%0A%20%20%20%20%3Clink%20rel%3D%22stylesheet%22%20href%3D%22https%3A//cdnjs.cloudflare.com/ajax/libs/Leaflet.awesome-markers/2.0.2/leaflet.awesome-markers.css%22/%3E%0A%20%20%20%20%3Clink%20rel%3D%22stylesheet%22%20href%3D%22https%3A//cdn.jsdelivr.net/gh/python-visualization/folium/folium/templates/leaflet.awesome.rotate.min.css%22/%3E%0A%20%20%20%20%0A%20%20%20%20%20%20%20%20%20%20%20%20%3Cmeta%20name%3D%22viewport%22%20content%3D%22width%3Ddevice-width%2C%0A%20%20%20%20%20%20%20%20%20%20%20%20%20%20%20%20initial-scale%3D1.0%2C%20maximum-scale%3D1.0%2C%20user-scalable%3Dno%22%20/%3E%0A%20%20%20%20%20%20%20%20%20%20%20%20%3Cstyle%3E%0A%20%20%20%20%20%20%20%20%20%20%20%20%20%20%20%20%23map_fba82162176c4e25a4ec32f708b74f9f%20%7B%0A%20%20%20%20%20%20%20%20%20%20%20%20%20%20%20%20%20%20%20%20position%3A%20relative%3B%0A%20%20%20%20%20%20%20%20%20%20%20%20%20%20%20%20%20%20%20%20width%3A%20100.0%25%3B%0A%20%20%20%20%20%20%20%20%20%20%20%20%20%20%20%20%20%20%20%20height%3A%20100.0%25%3B%0A%20%20%20%20%20%20%20%20%20%20%20%20%20%20%20%20%20%20%20%20left%3A%200.0%25%3B%0A%20%20%20%20%20%20%20%20%20%20%20%20%20%20%20%20%20%20%20%20top%3A%200.0%25%3B%0A%20%20%20%20%20%20%20%20%20%20%20%20%20%20%20%20%7D%0A%20%20%20%20%20%20%20%20%20%20%20%20%3C/style%3E%0A%20%20%20%20%20%20%20%20%0A%3C/head%3E%0A%3Cbody%3E%20%20%20%20%0A%20%20%20%20%0A%20%20%20%20%20%20%20%20%20%20%20%20%3Cdiv%20class%3D%22folium-map%22%20id%3D%22map_fba82162176c4e25a4ec32f708b74f9f%22%20%3E%3C/div%3E%0A%20%20%20%20%20%20%20%20%0A%3C/body%3E%0A%3Cscript%3E%20%20%20%20%0A%20%20%20%20%0A%20%20%20%20%20%20%20%20%20%20%20%20var%20map_fba82162176c4e25a4ec32f708b74f9f%20%3D%20L.map%28%0A%20%20%20%20%20%20%20%20%20%20%20%20%20%20%20%20%22map_fba82162176c4e25a4ec32f708b74f9f%22%2C%0A%20%20%20%20%20%20%20%20%20%20%20%20%20%20%20%20%7B%0A%20%20%20%20%20%20%20%20%20%20%20%20%20%20%20%20%20%20%20%20center%3A%20%5B38.0%2C%20-27.0%5D%2C%0A%20%20%20%20%20%20%20%20%20%20%20%20%20%20%20%20%20%20%20%20crs%3A%20L.CRS.EPSG3857%2C%0A%20%20%20%20%20%20%20%20%20%20%20%20%20%20%20%20%20%20%20%20zoom%3A%206%2C%0A%20%20%20%20%20%20%20%20%20%20%20%20%20%20%20%20%20%20%20%20zoomControl%3A%20true%2C%0A%20%20%20%20%20%20%20%20%20%20%20%20%20%20%20%20%20%20%20%20preferCanvas%3A%20false%2C%0A%20%20%20%20%20%20%20%20%20%20%20%20%20%20%20%20%7D%0A%20%20%20%20%20%20%20%20%20%20%20%20%29%3B%0A%0A%20%20%20%20%20%20%20%20%20%20%20%20%0A%0A%20%20%20%20%20%20%20%20%0A%20%20%20%20%0A%20%20%20%20%20%20%20%20%20%20%20%20var%20tile_layer_727adb8df34b4ccdbb65c2b0b1375f3b%20%3D%20L.tileLayer%28%0A%20%20%20%20%20%20%20%20%20%20%20%20%20%20%20%20%22https%3A//%7Bs%7D.tile.openstreetmap.org/%7Bz%7D/%7Bx%7D/%7By%7D.png%22%2C%0A%20%20%20%20%20%20%20%20%20%20%20%20%20%20%20%20%7B%22attribution%22%3A%20%22Data%20by%20%5Cu0026copy%3B%20%5Cu003ca%20href%3D%5C%22http%3A//openstreetmap.org%5C%22%5Cu003eOpenStreetMap%5Cu003c/a%5Cu003e%2C%20under%20%5Cu003ca%20href%3D%5C%22http%3A//www.openstreetmap.org/copyright%5C%22%5Cu003eODbL%5Cu003c/a%5Cu003e.%22%2C%20%22detectRetina%22%3A%20false%2C%20%22maxNativeZoom%22%3A%2018%2C%20%22maxZoom%22%3A%2018%2C%20%22minZoom%22%3A%200%2C%20%22noWrap%22%3A%20false%2C%20%22opacity%22%3A%201%2C%20%22subdomains%22%3A%20%22abc%22%2C%20%22tms%22%3A%20false%7D%0A%20%20%20%20%20%20%20%20%20%20%20%20%29.addTo%28map_fba82162176c4e25a4ec32f708b74f9f%29%3B%0A%20%20%20%20%20%20%20%20%0A%3C/script%3E onload=\"this.contentDocument.open();this.contentDocument.write(    decodeURIComponent(this.getAttribute('data-html')));this.contentDocument.close();\" allowfullscreen webkitallowfullscreen mozallowfullscreen></iframe></div></div>"
      ],
      "text/plain": [
       "<folium.folium.Map at 0x7fc185dc8af0>"
      ]
     },
     "execution_count": 18,
     "metadata": {},
     "output_type": "execute_result"
    }
   ],
   "source": [
    "folium.folium.Map(location =(38, -27), zoom_start = 6) # this is an map object"
   ]
  },
  {
   "cell_type": "code",
   "execution_count": 10,
   "id": "1c841c12",
   "metadata": {},
   "outputs": [],
   "source": [
    "folium.folium.Map(location = (38, -27), zoom_start = 6).save(\"output.html\") # for map object, we can save as a html"
   ]
  },
  {
   "cell_type": "code",
   "execution_count": 15,
   "id": "92c84d71",
   "metadata": {},
   "outputs": [
    {
     "name": "stdout",
     "output_type": "stream",
     "text": [
      "Learn_Classes.ipynb output.html\r\n"
     ]
    }
   ],
   "source": [
    "!ls # list the files current directory, output.html was generated"
   ]
  },
  {
   "cell_type": "code",
   "execution_count": 16,
   "id": "c653ae11",
   "metadata": {},
   "outputs": [
    {
     "data": {
      "text/plain": [
       "'/Users/tonygao/opt/anaconda3/lib/python3.8/site-packages/folium/__init__.py'"
      ]
     },
     "execution_count": 16,
     "metadata": {},
     "output_type": "execute_result"
    }
   ],
   "source": [
    "folium.__file__ # path of the folium package containing folium class"
   ]
  },
  {
   "cell_type": "markdown",
   "id": "a3e0f814",
   "metadata": {},
   "source": [
    "---\n",
    "# Creating a class"
   ]
  },
  {
   "cell_type": "code",
   "execution_count": 31,
   "id": "9edfa098",
   "metadata": {},
   "outputs": [],
   "source": [
    "class Point:\n",
    "    \n",
    "    def __init__(self, x, y):\n",
    "        self.x = x\n",
    "        self.y = y "
   ]
  },
  {
   "cell_type": "code",
   "execution_count": 32,
   "id": "6c467249",
   "metadata": {},
   "outputs": [],
   "source": [
    "point1 = Point(10,20)"
   ]
  },
  {
   "cell_type": "code",
   "execution_count": 33,
   "id": "26d9b8bb",
   "metadata": {},
   "outputs": [
    {
     "data": {
      "text/plain": [
       "10"
      ]
     },
     "execution_count": 33,
     "metadata": {},
     "output_type": "execute_result"
    }
   ],
   "source": [
    "point1.x"
   ]
  },
  {
   "cell_type": "code",
   "execution_count": 35,
   "id": "39fd3548",
   "metadata": {},
   "outputs": [
    {
     "data": {
      "text/plain": [
       "__main__.Point"
      ]
     },
     "execution_count": 35,
     "metadata": {},
     "output_type": "execute_result"
    }
   ],
   "source": [
    "type(point1) # indicat a \"Point\" type class object"
   ]
  },
  {
   "cell_type": "markdown",
   "id": "1658ff57",
   "metadata": {},
   "source": [
    "<font color = red>  \"__main__\" is actually the name of the current script"
   ]
  },
  {
   "cell_type": "code",
   "execution_count": 36,
   "id": "0619f9db",
   "metadata": {},
   "outputs": [],
   "source": [
    "number1 = int(\"2\")"
   ]
  },
  {
   "cell_type": "code",
   "execution_count": 37,
   "id": "4957046a",
   "metadata": {},
   "outputs": [
    {
     "data": {
      "text/plain": [
       "int"
      ]
     },
     "execution_count": 37,
     "metadata": {},
     "output_type": "execute_result"
    }
   ],
   "source": [
    "type(number1) # int is also a class, but it's cpython built-in class written by C lang"
   ]
  },
  {
   "cell_type": "code",
   "execution_count": 42,
   "id": "aacd13bc",
   "metadata": {},
   "outputs": [
    {
     "data": {
      "text/plain": [
       "int"
      ]
     },
     "execution_count": 42,
     "metadata": {},
     "output_type": "execute_result"
    }
   ],
   "source": [
    "type(int(\"2\"))"
   ]
  },
  {
   "cell_type": "markdown",
   "id": "fb127d32",
   "metadata": {},
   "source": [
    "---"
   ]
  },
  {
   "cell_type": "code",
   "execution_count": 44,
   "id": "b4c939e7",
   "metadata": {},
   "outputs": [],
   "source": [
    "import ipaddress"
   ]
  },
  {
   "cell_type": "code",
   "execution_count": 45,
   "id": "357d6b59",
   "metadata": {},
   "outputs": [],
   "source": [
    "myip = ipaddress.IPv4Address(\"1.1.1.1\")"
   ]
  },
  {
   "cell_type": "code",
   "execution_count": 46,
   "id": "f1e8cf04",
   "metadata": {},
   "outputs": [
    {
     "data": {
      "text/plain": [
       "ipaddress.IPv4Address"
      ]
     },
     "execution_count": 46,
     "metadata": {},
     "output_type": "execute_result"
    }
   ],
   "source": [
    "type(myip)"
   ]
  },
  {
   "cell_type": "code",
   "execution_count": 48,
   "id": "c7a95649",
   "metadata": {},
   "outputs": [
    {
     "data": {
      "text/plain": [
       "16843009"
      ]
     },
     "execution_count": 48,
     "metadata": {},
     "output_type": "execute_result"
    }
   ],
   "source": [
    "myip._ip"
   ]
  },
  {
   "cell_type": "code",
   "execution_count": 49,
   "id": "d437b07d",
   "metadata": {},
   "outputs": [
    {
     "name": "stdout",
     "output_type": "stream",
     "text": [
      "<__main__.Point object at 0x7fc185e783d0>\n"
     ]
    }
   ],
   "source": [
    "print(point1)"
   ]
  },
  {
   "cell_type": "markdown",
   "id": "f13400f7",
   "metadata": {},
   "source": [
    "---\n",
    "### What is self?"
   ]
  },
  {
   "cell_type": "code",
   "execution_count": 58,
   "id": "99cdf763",
   "metadata": {},
   "outputs": [],
   "source": [
    "class Point:\n",
    "    \n",
    "    def __init__(self, x, y):\n",
    "        self.x = x\n",
    "        self.y = y\n",
    "        print(self)"
   ]
  },
  {
   "cell_type": "code",
   "execution_count": 59,
   "id": "d257116c",
   "metadata": {},
   "outputs": [
    {
     "name": "stdout",
     "output_type": "stream",
     "text": [
      "<__main__.Point object at 0x7fc185e1c970>\n",
      "<__main__.Point object at 0x7fc185e1c670>\n"
     ]
    }
   ],
   "source": [
    "point1 = Point(3, 4)\n",
    "point2 = Point(6, 7)"
   ]
  },
  {
   "cell_type": "markdown",
   "id": "bc7028b1",
   "metadata": {},
   "source": [
    "##### <font color =red> * \"self\" is nothing but the object itself </font>\n",
    "##### <font color =red> * the \"self\" can be any name"
   ]
  },
  {
   "cell_type": "code",
   "execution_count": 60,
   "id": "deeb6d60",
   "metadata": {},
   "outputs": [],
   "source": [
    "class Point:\n",
    "    \n",
    "    def __init__(this_object, x, y):\n",
    "        this_object.x = x\n",
    "        this_object.y = y "
   ]
  },
  {
   "cell_type": "code",
   "execution_count": 62,
   "id": "290fcd58",
   "metadata": {},
   "outputs": [
    {
     "data": {
      "text/plain": [
       "6"
      ]
     },
     "execution_count": 62,
     "metadata": {},
     "output_type": "execute_result"
    }
   ],
   "source": [
    "Point(6,9).x # this object point to self actually "
   ]
  },
  {
   "cell_type": "markdown",
   "id": "79560dd4",
   "metadata": {},
   "source": [
    "### More about \"self\""
   ]
  },
  {
   "cell_type": "code",
   "execution_count": 67,
   "id": "6d922ffa",
   "metadata": {},
   "outputs": [],
   "source": [
    "class Person:\n",
    "    def __init__(self, n, a):\n",
    "        self.name = n # the name doesn't have to be same, i.e. self.n = n\n",
    "        self.a = a # But it's good practice to have the same name"
   ]
  },
  {
   "cell_type": "code",
   "execution_count": 65,
   "id": "fcdc6490",
   "metadata": {},
   "outputs": [],
   "source": [
    "person1 = Person(\"John\", 65)"
   ]
  },
  {
   "cell_type": "code",
   "execution_count": 66,
   "id": "1d93a5f0",
   "metadata": {},
   "outputs": [
    {
     "data": {
      "text/plain": [
       "'John'"
      ]
     },
     "execution_count": 66,
     "metadata": {},
     "output_type": "execute_result"
    }
   ],
   "source": [
    "person1.name"
   ]
  },
  {
   "cell_type": "markdown",
   "id": "5e804187",
   "metadata": {},
   "source": [
    "---"
   ]
  },
  {
   "cell_type": "code",
   "execution_count": 84,
   "id": "b3ab1dd6",
   "metadata": {},
   "outputs": [],
   "source": [
    "class Point:\n",
    "    \n",
    "    def __init__(self, x, y):\n",
    "        self.x = x\n",
    "        self.y = y\n",
    "    \n",
    "    # a method to determine if the point object inside the rectangle\n",
    "    def falls_in_rectangle(self, lowleft, upright): # lowleft and upright here are tuples\n",
    "        if lowleft[0] < self.x < upright[0] \\\n",
    "        and lowleft[1] < self.y < upright[1]: # self point to point1 or point2 object instance we created\n",
    "            return True\n",
    "        else:\n",
    "            return False\n",
    "    "
   ]
  },
  {
   "cell_type": "code",
   "execution_count": 81,
   "id": "e46209ad",
   "metadata": {},
   "outputs": [],
   "source": [
    "point2 = Point(3, 4)"
   ]
  },
  {
   "cell_type": "code",
   "execution_count": 82,
   "id": "6537680a",
   "metadata": {},
   "outputs": [
    {
     "data": {
      "text/plain": [
       "False"
      ]
     },
     "execution_count": 82,
     "metadata": {},
     "output_type": "execute_result"
    }
   ],
   "source": [
    "point2.falls_in_rectangle((5, 6), (7, 9)) # call the method to determine if point2 inside rectangle"
   ]
  },
  {
   "cell_type": "code",
   "execution_count": 83,
   "id": "256a4846",
   "metadata": {},
   "outputs": [
    {
     "data": {
      "text/plain": [
       "True"
      ]
     },
     "execution_count": 83,
     "metadata": {},
     "output_type": "execute_result"
    }
   ],
   "source": [
    "Point(3, 4).falls_in_rectangle((1, 1), (6, 6))"
   ]
  },
  {
   "cell_type": "markdown",
   "id": "c0d685ae",
   "metadata": {},
   "source": [
    "### __init__ Method vs Normal Method"
   ]
  },
  {
   "cell_type": "code",
   "execution_count": 102,
   "id": "9851edb2",
   "metadata": {},
   "outputs": [],
   "source": [
    "class Point:\n",
    "    \n",
    "    def __init__(self, x, y):\n",
    "        print(\"Hey, I am __init__!\")\n",
    "        self.x = x\n",
    "        self.y = y\n",
    "    \n",
    "    def falls_in_rectangle(self, lowleft: tuple, upright: tuple) -> bool: # tuple and bool keywords here are optional\n",
    "        print(\"I am ordinary!\")\n",
    "        if lowleft[0] < self.x < upright[0] \\\n",
    "        and lowleft[1] < self.y < upright[1]: \n",
    "            return True\n",
    "        else:\n",
    "            return False\n",
    "    "
   ]
  },
  {
   "cell_type": "markdown",
   "id": "10772706",
   "metadata": {},
   "source": [
    "\n",
    "##### <font color =red> - Whenever create an object using the blueprint/class, the __init__ function will be executed. \n",
    "##### <font color =red> - And, the ordinary method will only be executed only when we call that method explicitly."
   ]
  },
  {
   "cell_type": "code",
   "execution_count": 103,
   "id": "b1d5e8e2",
   "metadata": {},
   "outputs": [
    {
     "name": "stdout",
     "output_type": "stream",
     "text": [
      "Hey, I am __init__!\n"
     ]
    }
   ],
   "source": [
    "point = Point(3, 5) "
   ]
  },
  {
   "cell_type": "code",
   "execution_count": 104,
   "id": "4315bcfc",
   "metadata": {},
   "outputs": [
    {
     "name": "stdout",
     "output_type": "stream",
     "text": [
      "I am ordinary!\n"
     ]
    },
    {
     "data": {
      "text/plain": [
       "True"
      ]
     },
     "execution_count": 104,
     "metadata": {},
     "output_type": "execute_result"
    }
   ],
   "source": [
    "point.falls_in_rectangle((1, 3), (8, 9)) # ordinary method only be executed when they are called"
   ]
  },
  {
   "cell_type": "markdown",
   "id": "ddce18b4",
   "metadata": {},
   "source": [
    "---\n",
    "### Assignment:\n",
    "Add a \"distance\" Method (Assignment)\n",
    "Add a new distance method to the Point class. The method should calculate the distance from the coordinates of the current point (i.e., the self.x and self.y coordinates) to the coordinates of any other given point, and such coordinates can be provided as x and y arguments to the distance method."
   ]
  },
  {
   "cell_type": "code",
   "execution_count": 114,
   "id": "2ee9723b",
   "metadata": {},
   "outputs": [],
   "source": [
    "class Point:\n",
    "    \n",
    "    def __init__(self, x, y):\n",
    "        print(\"Hey, I am __init__!\")\n",
    "        self.x = x\n",
    "        self.y = y\n",
    "    \n",
    "    def falls_in_rectangle(self, lowleft, upright): # tuple and bool keywords here are optional\n",
    "        print(\"I am ordinary!\")\n",
    "        if lowleft[0] < self.x < upright[0] \\\n",
    "        and lowleft[1] < self.y < upright[1]: \n",
    "            return True\n",
    "        else:\n",
    "            return False\n",
    "        \n",
    "    def distance_from_point(self, x, y):\n",
    "        \n",
    "        length = ((self.x - x)**2 + (self.y -y)**2)**0.5\n",
    "        \n",
    "        return length\n",
    "    "
   ]
  },
  {
   "cell_type": "code",
   "execution_count": 115,
   "id": "a048a1e5",
   "metadata": {},
   "outputs": [
    {
     "name": "stdout",
     "output_type": "stream",
     "text": [
      "Hey, I am __init__!\n"
     ]
    }
   ],
   "source": [
    "point3 = Point(1, 3)"
   ]
  },
  {
   "cell_type": "code",
   "execution_count": 116,
   "id": "528bd430",
   "metadata": {},
   "outputs": [
    {
     "data": {
      "text/plain": [
       "3.0"
      ]
     },
     "execution_count": 116,
     "metadata": {},
     "output_type": "execute_result"
    }
   ],
   "source": [
    "point3.distance_from_point(4, 3)"
   ]
  },
  {
   "cell_type": "markdown",
   "id": "1663e996",
   "metadata": {},
   "source": [
    "<font color = red size= 4> How about we pass the other point object instead of two parameters ?"
   ]
  },
  {
   "cell_type": "code",
   "execution_count": 141,
   "id": "8c470036",
   "metadata": {},
   "outputs": [],
   "source": [
    "class Point:\n",
    "    \n",
    "    def __init__(self, x, y):\n",
    "        print(\"Hey, I am __init__!\")\n",
    "        self.x = x\n",
    "        self.y = y\n",
    "    \n",
    "    def falls_in_rectangle(self, lowleft, upright): # tuple and bool keywords here are optional\n",
    "        print(\"I am ordinary!\")\n",
    "        if lowleft[0] < self.x < upright[0] \\\n",
    "        and lowleft[1] < self.y < upright[1]: \n",
    "            return True\n",
    "        else:\n",
    "            return False\n",
    "        \n",
    "    def distance_from_point(self):\n",
    "        \n",
    "        length = ((self.x - point.x)**2 + (self.y -point.y)**2)**0.5\n",
    "        \n",
    "        return length\n",
    "    "
   ]
  },
  {
   "cell_type": "code",
   "execution_count": 142,
   "id": "83234a86",
   "metadata": {},
   "outputs": [
    {
     "name": "stdout",
     "output_type": "stream",
     "text": [
      "Hey, I am __init__!\n"
     ]
    }
   ],
   "source": [
    "point4 = Point(3, 4)\n"
   ]
  },
  {
   "cell_type": "code",
   "execution_count": 143,
   "id": "c46964aa",
   "metadata": {},
   "outputs": [
    {
     "name": "stdout",
     "output_type": "stream",
     "text": [
      "Hey, I am __init__!\n"
     ]
    }
   ],
   "source": [
    "point5 = Point(4, 6)"
   ]
  },
  {
   "cell_type": "code",
   "execution_count": 140,
   "id": "2d340975",
   "metadata": {},
   "outputs": [
    {
     "ename": "TypeError",
     "evalue": "distance_from_point() takes 1 positional argument but 2 were given",
     "output_type": "error",
     "traceback": [
      "\u001b[0;31m---------------------------------------------------------------------------\u001b[0m",
      "\u001b[0;31mTypeError\u001b[0m                                 Traceback (most recent call last)",
      "\u001b[0;32m/var/folders/tb/qc06nbjn13339hgzlw98mkzw0000gn/T/ipykernel_73670/3289199955.py\u001b[0m in \u001b[0;36m<module>\u001b[0;34m\u001b[0m\n\u001b[0;32m----> 1\u001b[0;31m \u001b[0mpoint4\u001b[0m\u001b[0;34m.\u001b[0m\u001b[0mdistance_from_point\u001b[0m\u001b[0;34m(\u001b[0m\u001b[0mpoint5\u001b[0m\u001b[0;34m)\u001b[0m\u001b[0;34m\u001b[0m\u001b[0;34m\u001b[0m\u001b[0m\n\u001b[0m",
      "\u001b[0;31mTypeError\u001b[0m: distance_from_point() takes 1 positional argument but 2 were given"
     ]
    }
   ],
   "source": [
    "point4.distance_from_point(point5)"
   ]
  },
  {
   "cell_type": "code",
   "execution_count": null,
   "id": "b262216d",
   "metadata": {},
   "outputs": [],
   "source": []
  },
  {
   "cell_type": "code",
   "execution_count": null,
   "id": "33cd052b",
   "metadata": {},
   "outputs": [],
   "source": []
  }
 ],
 "metadata": {
  "kernelspec": {
   "display_name": "Python 3 (ipykernel)",
   "language": "python",
   "name": "python3"
  },
  "language_info": {
   "codemirror_mode": {
    "name": "ipython",
    "version": 3
   },
   "file_extension": ".py",
   "mimetype": "text/x-python",
   "name": "python",
   "nbconvert_exporter": "python",
   "pygments_lexer": "ipython3",
   "version": "3.8.11"
  }
 },
 "nbformat": 4,
 "nbformat_minor": 5
}
