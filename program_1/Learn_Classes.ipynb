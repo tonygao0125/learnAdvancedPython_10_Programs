{
 "cells": [
  {
   "cell_type": "markdown",
   "id": "c3562b52",
   "metadata": {},
   "source": [
    "## <font color =\"blue\"> All Elements of Python\n",
    "* Objects\n",
    "* Identifiers\n",
    "* Operators\n",
    "* Delimiters\n",
    "* Keywords\n",
    "* Comments\n",
    "* Blank Lines\n",
    "* White Space\n",
    "* Indentation\n",
    "\n",
    "##### <u> See below examples:"
   ]
  },
  {
   "cell_type": "code",
   "execution_count": 2,
   "id": "901883ed",
   "metadata": {},
   "outputs": [],
   "source": [
    "# All language elements are in this code\n",
    "\n",
    "a = 4\n",
    "b = 5\n",
    "c = [6,7]\n",
    "\n",
    "d = \"Hi\"\n",
    "\"Hello\"\n",
    "\n",
    "def area(x):\n",
    "    return x**2\n",
    "\n",
    "area(3)"
   ]
  },
  {
   "cell_type": "markdown",
   "id": "ea463828",
   "metadata": {},
   "source": [
    "- \"Objects\": 4, 5, [6,7], 6, 7, \"Hello\", \"Hi\", function definition, 2, 3, 9 (\"Hello\" is an unassigned object)\n",
    "- \"Identifiers\"(**names for identifying the objects**): a, b, c, d, area, x\n",
    "- \"operators\": **\n",
    "- \"Delimiters\": \"=\", \",\", \"(\", \")\", \":\", \"[\", \"]\" (Note: = IS NOT OPERATOR BUT DELIMITER)\n",
    "- \"Keywords\": def, return\n",
    "- \"Comments\": # All language elements are in this code\n",
    "- Blank lines\n",
    "- White space\n",
    "- Indentation"
   ]
  },
  {
   "cell_type": "markdown",
   "id": "a70cd6bd",
   "metadata": {},
   "source": [
    "---"
   ]
  },
  {
   "cell_type": "markdown",
   "id": "b6d60b77",
   "metadata": {},
   "source": [
    "## <font color = blue > What is Object?"
   ]
  },
  {
   "cell_type": "code",
   "execution_count": null,
   "id": "95c8167d",
   "metadata": {},
   "outputs": [],
   "source": [
    "# pip install folium\n",
    "inty = 5\n",
    "listy = [6,7]\n",
    "stringy = \"Hi\"\n",
    "\n",
    "import folium\n",
    "azores = folium.folium.Map(location =(38, -27), zoom_start = 6)\n",
    "\n",
    "#objects: 5, [6,7], 6, 7, \"Hi\", folium.folium.Map(location =(38, -27), zoom_start = 6), 38, -27, 6"
   ]
  },
  {
   "cell_type": "markdown",
   "id": "53ae2a13",
   "metadata": {},
   "source": [
    "<u> All objects have a type:\n",
    "- type(inty) -> int\n",
    "- type(listy) -> list\n",
    "- type(stringy) -> str\n",
    "- type(azores) -> foium.folium.Map"
   ]
  },
  {
   "cell_type": "code",
   "execution_count": 18,
   "id": "97c27c88",
   "metadata": {},
   "outputs": [
    {
     "data": {
      "text/html": [
       "<div style=\"width:100%;\"><div style=\"position:relative;width:100%;height:0;padding-bottom:60%;\"><span style=\"color:#565656\">Make this Notebook Trusted to load map: File -> Trust Notebook</span><iframe src=\"about:blank\" style=\"position:absolute;width:100%;height:100%;left:0;top:0;border:none !important;\" data-html=%3C%21DOCTYPE%20html%3E%0A%3Chead%3E%20%20%20%20%0A%20%20%20%20%3Cmeta%20http-equiv%3D%22content-type%22%20content%3D%22text/html%3B%20charset%3DUTF-8%22%20/%3E%0A%20%20%20%20%0A%20%20%20%20%20%20%20%20%3Cscript%3E%0A%20%20%20%20%20%20%20%20%20%20%20%20L_NO_TOUCH%20%3D%20false%3B%0A%20%20%20%20%20%20%20%20%20%20%20%20L_DISABLE_3D%20%3D%20false%3B%0A%20%20%20%20%20%20%20%20%3C/script%3E%0A%20%20%20%20%0A%20%20%20%20%3Cstyle%3Ehtml%2C%20body%20%7Bwidth%3A%20100%25%3Bheight%3A%20100%25%3Bmargin%3A%200%3Bpadding%3A%200%3B%7D%3C/style%3E%0A%20%20%20%20%3Cstyle%3E%23map%20%7Bposition%3Aabsolute%3Btop%3A0%3Bbottom%3A0%3Bright%3A0%3Bleft%3A0%3B%7D%3C/style%3E%0A%20%20%20%20%3Cscript%20src%3D%22https%3A//cdn.jsdelivr.net/npm/leaflet%401.6.0/dist/leaflet.js%22%3E%3C/script%3E%0A%20%20%20%20%3Cscript%20src%3D%22https%3A//code.jquery.com/jquery-1.12.4.min.js%22%3E%3C/script%3E%0A%20%20%20%20%3Cscript%20src%3D%22https%3A//maxcdn.bootstrapcdn.com/bootstrap/3.2.0/js/bootstrap.min.js%22%3E%3C/script%3E%0A%20%20%20%20%3Cscript%20src%3D%22https%3A//cdnjs.cloudflare.com/ajax/libs/Leaflet.awesome-markers/2.0.2/leaflet.awesome-markers.js%22%3E%3C/script%3E%0A%20%20%20%20%3Clink%20rel%3D%22stylesheet%22%20href%3D%22https%3A//cdn.jsdelivr.net/npm/leaflet%401.6.0/dist/leaflet.css%22/%3E%0A%20%20%20%20%3Clink%20rel%3D%22stylesheet%22%20href%3D%22https%3A//maxcdn.bootstrapcdn.com/bootstrap/3.2.0/css/bootstrap.min.css%22/%3E%0A%20%20%20%20%3Clink%20rel%3D%22stylesheet%22%20href%3D%22https%3A//maxcdn.bootstrapcdn.com/bootstrap/3.2.0/css/bootstrap-theme.min.css%22/%3E%0A%20%20%20%20%3Clink%20rel%3D%22stylesheet%22%20href%3D%22https%3A//maxcdn.bootstrapcdn.com/font-awesome/4.6.3/css/font-awesome.min.css%22/%3E%0A%20%20%20%20%3Clink%20rel%3D%22stylesheet%22%20href%3D%22https%3A//cdnjs.cloudflare.com/ajax/libs/Leaflet.awesome-markers/2.0.2/leaflet.awesome-markers.css%22/%3E%0A%20%20%20%20%3Clink%20rel%3D%22stylesheet%22%20href%3D%22https%3A//cdn.jsdelivr.net/gh/python-visualization/folium/folium/templates/leaflet.awesome.rotate.min.css%22/%3E%0A%20%20%20%20%0A%20%20%20%20%20%20%20%20%20%20%20%20%3Cmeta%20name%3D%22viewport%22%20content%3D%22width%3Ddevice-width%2C%0A%20%20%20%20%20%20%20%20%20%20%20%20%20%20%20%20initial-scale%3D1.0%2C%20maximum-scale%3D1.0%2C%20user-scalable%3Dno%22%20/%3E%0A%20%20%20%20%20%20%20%20%20%20%20%20%3Cstyle%3E%0A%20%20%20%20%20%20%20%20%20%20%20%20%20%20%20%20%23map_fba82162176c4e25a4ec32f708b74f9f%20%7B%0A%20%20%20%20%20%20%20%20%20%20%20%20%20%20%20%20%20%20%20%20position%3A%20relative%3B%0A%20%20%20%20%20%20%20%20%20%20%20%20%20%20%20%20%20%20%20%20width%3A%20100.0%25%3B%0A%20%20%20%20%20%20%20%20%20%20%20%20%20%20%20%20%20%20%20%20height%3A%20100.0%25%3B%0A%20%20%20%20%20%20%20%20%20%20%20%20%20%20%20%20%20%20%20%20left%3A%200.0%25%3B%0A%20%20%20%20%20%20%20%20%20%20%20%20%20%20%20%20%20%20%20%20top%3A%200.0%25%3B%0A%20%20%20%20%20%20%20%20%20%20%20%20%20%20%20%20%7D%0A%20%20%20%20%20%20%20%20%20%20%20%20%3C/style%3E%0A%20%20%20%20%20%20%20%20%0A%3C/head%3E%0A%3Cbody%3E%20%20%20%20%0A%20%20%20%20%0A%20%20%20%20%20%20%20%20%20%20%20%20%3Cdiv%20class%3D%22folium-map%22%20id%3D%22map_fba82162176c4e25a4ec32f708b74f9f%22%20%3E%3C/div%3E%0A%20%20%20%20%20%20%20%20%0A%3C/body%3E%0A%3Cscript%3E%20%20%20%20%0A%20%20%20%20%0A%20%20%20%20%20%20%20%20%20%20%20%20var%20map_fba82162176c4e25a4ec32f708b74f9f%20%3D%20L.map%28%0A%20%20%20%20%20%20%20%20%20%20%20%20%20%20%20%20%22map_fba82162176c4e25a4ec32f708b74f9f%22%2C%0A%20%20%20%20%20%20%20%20%20%20%20%20%20%20%20%20%7B%0A%20%20%20%20%20%20%20%20%20%20%20%20%20%20%20%20%20%20%20%20center%3A%20%5B38.0%2C%20-27.0%5D%2C%0A%20%20%20%20%20%20%20%20%20%20%20%20%20%20%20%20%20%20%20%20crs%3A%20L.CRS.EPSG3857%2C%0A%20%20%20%20%20%20%20%20%20%20%20%20%20%20%20%20%20%20%20%20zoom%3A%206%2C%0A%20%20%20%20%20%20%20%20%20%20%20%20%20%20%20%20%20%20%20%20zoomControl%3A%20true%2C%0A%20%20%20%20%20%20%20%20%20%20%20%20%20%20%20%20%20%20%20%20preferCanvas%3A%20false%2C%0A%20%20%20%20%20%20%20%20%20%20%20%20%20%20%20%20%7D%0A%20%20%20%20%20%20%20%20%20%20%20%20%29%3B%0A%0A%20%20%20%20%20%20%20%20%20%20%20%20%0A%0A%20%20%20%20%20%20%20%20%0A%20%20%20%20%0A%20%20%20%20%20%20%20%20%20%20%20%20var%20tile_layer_727adb8df34b4ccdbb65c2b0b1375f3b%20%3D%20L.tileLayer%28%0A%20%20%20%20%20%20%20%20%20%20%20%20%20%20%20%20%22https%3A//%7Bs%7D.tile.openstreetmap.org/%7Bz%7D/%7Bx%7D/%7By%7D.png%22%2C%0A%20%20%20%20%20%20%20%20%20%20%20%20%20%20%20%20%7B%22attribution%22%3A%20%22Data%20by%20%5Cu0026copy%3B%20%5Cu003ca%20href%3D%5C%22http%3A//openstreetmap.org%5C%22%5Cu003eOpenStreetMap%5Cu003c/a%5Cu003e%2C%20under%20%5Cu003ca%20href%3D%5C%22http%3A//www.openstreetmap.org/copyright%5C%22%5Cu003eODbL%5Cu003c/a%5Cu003e.%22%2C%20%22detectRetina%22%3A%20false%2C%20%22maxNativeZoom%22%3A%2018%2C%20%22maxZoom%22%3A%2018%2C%20%22minZoom%22%3A%200%2C%20%22noWrap%22%3A%20false%2C%20%22opacity%22%3A%201%2C%20%22subdomains%22%3A%20%22abc%22%2C%20%22tms%22%3A%20false%7D%0A%20%20%20%20%20%20%20%20%20%20%20%20%29.addTo%28map_fba82162176c4e25a4ec32f708b74f9f%29%3B%0A%20%20%20%20%20%20%20%20%0A%3C/script%3E onload=\"this.contentDocument.open();this.contentDocument.write(    decodeURIComponent(this.getAttribute('data-html')));this.contentDocument.close();\" allowfullscreen webkitallowfullscreen mozallowfullscreen></iframe></div></div>"
      ],
      "text/plain": [
       "<folium.folium.Map at 0x7fc185dc8af0>"
      ]
     },
     "execution_count": 18,
     "metadata": {},
     "output_type": "execute_result"
    }
   ],
   "source": [
    "folium.folium.Map(location =(38, -27), zoom_start = 6) # this is an map object"
   ]
  },
  {
   "cell_type": "code",
   "execution_count": 10,
   "id": "e4b840cc",
   "metadata": {},
   "outputs": [],
   "source": [
    "folium.folium.Map(location = (38, -27), zoom_start = 6).save(\"output.html\") # for map object, we can save as a html"
   ]
  },
  {
   "cell_type": "code",
   "execution_count": 15,
   "id": "6528b6f4",
   "metadata": {},
   "outputs": [
    {
     "name": "stdout",
     "output_type": "stream",
     "text": [
      "Learn_Classes.ipynb output.html\r\n"
     ]
    }
   ],
   "source": [
    "!ls # list the files current directory, output.html was generated"
   ]
  },
  {
   "cell_type": "code",
   "execution_count": 16,
   "id": "76008fd1",
   "metadata": {},
   "outputs": [
    {
     "data": {
      "text/plain": [
       "'/Users/tonygao/opt/anaconda3/lib/python3.8/site-packages/folium/__init__.py'"
      ]
     },
     "execution_count": 16,
     "metadata": {},
     "output_type": "execute_result"
    }
   ],
   "source": [
    "folium.__file__ # path of the folium package containing folium class"
   ]
  },
  {
   "cell_type": "markdown",
   "id": "252ca7d9",
   "metadata": {},
   "source": [
    "---\n",
    "# Creating a class"
   ]
  },
  {
   "cell_type": "code",
   "execution_count": 31,
   "id": "5cebe852",
   "metadata": {},
   "outputs": [],
   "source": [
    "class Point:\n",
    "    \n",
    "    def __init__(self, x, y):\n",
    "        self.x = x\n",
    "        self.y = y "
   ]
  },
  {
   "cell_type": "code",
   "execution_count": 32,
   "id": "7752d888",
   "metadata": {},
   "outputs": [],
   "source": [
    "point1 = Point(10,20)"
   ]
  },
  {
   "cell_type": "code",
   "execution_count": 33,
   "id": "0ae051ba",
   "metadata": {},
   "outputs": [
    {
     "data": {
      "text/plain": [
       "10"
      ]
     },
     "execution_count": 33,
     "metadata": {},
     "output_type": "execute_result"
    }
   ],
   "source": [
    "point1.x"
   ]
  },
  {
   "cell_type": "code",
   "execution_count": 35,
   "id": "7cc57c8a",
   "metadata": {},
   "outputs": [
    {
     "data": {
      "text/plain": [
       "__main__.Point"
      ]
     },
     "execution_count": 35,
     "metadata": {},
     "output_type": "execute_result"
    }
   ],
   "source": [
    "type(point1) # indicat a \"Point\" type class object"
   ]
  },
  {
   "cell_type": "markdown",
   "id": "c80d424e",
   "metadata": {},
   "source": [
    "<font color = red>  \"__main__\" is actually the name of the current script"
   ]
  },
  {
   "cell_type": "code",
   "execution_count": 36,
   "id": "c229bf1a",
   "metadata": {},
   "outputs": [],
   "source": [
    "number1 = int(\"2\")"
   ]
  },
  {
   "cell_type": "code",
   "execution_count": 37,
   "id": "a00f6707",
   "metadata": {},
   "outputs": [
    {
     "data": {
      "text/plain": [
       "int"
      ]
     },
     "execution_count": 37,
     "metadata": {},
     "output_type": "execute_result"
    }
   ],
   "source": [
    "type(number1) # int is also a class, but it's cpython built-in class written by C lang"
   ]
  },
  {
   "cell_type": "code",
   "execution_count": 42,
   "id": "1650534c",
   "metadata": {},
   "outputs": [
    {
     "data": {
      "text/plain": [
       "int"
      ]
     },
     "execution_count": 42,
     "metadata": {},
     "output_type": "execute_result"
    }
   ],
   "source": [
    "type(int(\"2\"))"
   ]
  },
  {
   "cell_type": "markdown",
   "id": "351eb654",
   "metadata": {},
   "source": [
    "---"
   ]
  },
  {
   "cell_type": "code",
   "execution_count": 44,
   "id": "5c4a5d2a",
   "metadata": {},
   "outputs": [],
   "source": [
    "import ipaddress"
   ]
  },
  {
   "cell_type": "code",
   "execution_count": 45,
   "id": "7aeb91a1",
   "metadata": {},
   "outputs": [],
   "source": [
    "myip = ipaddress.IPv4Address(\"1.1.1.1\")"
   ]
  },
  {
   "cell_type": "code",
   "execution_count": 46,
   "id": "bdb69972",
   "metadata": {},
   "outputs": [
    {
     "data": {
      "text/plain": [
       "ipaddress.IPv4Address"
      ]
     },
     "execution_count": 46,
     "metadata": {},
     "output_type": "execute_result"
    }
   ],
   "source": [
    "type(myip)"
   ]
  },
  {
   "cell_type": "code",
   "execution_count": 48,
   "id": "042e2c79",
   "metadata": {},
   "outputs": [
    {
     "data": {
      "text/plain": [
       "16843009"
      ]
     },
     "execution_count": 48,
     "metadata": {},
     "output_type": "execute_result"
    }
   ],
   "source": [
    "myip._ip"
   ]
  },
  {
   "cell_type": "code",
   "execution_count": 49,
   "id": "0a67d4f0",
   "metadata": {},
   "outputs": [
    {
     "name": "stdout",
     "output_type": "stream",
     "text": [
      "<__main__.Point object at 0x7fc185e783d0>\n"
     ]
    }
   ],
   "source": [
    "print(point1)"
   ]
  },
  {
   "cell_type": "markdown",
   "id": "9e3ac445",
   "metadata": {},
   "source": [
    "---\n",
    "### What is self?"
   ]
  },
  {
   "cell_type": "code",
   "execution_count": 58,
   "id": "cfcc7967",
   "metadata": {},
   "outputs": [],
   "source": [
    "class Point:\n",
    "    \n",
    "    def __init__(self, x, y):\n",
    "        self.x = x\n",
    "        self.y = y\n",
    "        print(self)"
   ]
  },
  {
   "cell_type": "code",
   "execution_count": 59,
   "id": "dcf5f999",
   "metadata": {},
   "outputs": [
    {
     "name": "stdout",
     "output_type": "stream",
     "text": [
      "<__main__.Point object at 0x7fc185e1c970>\n",
      "<__main__.Point object at 0x7fc185e1c670>\n"
     ]
    }
   ],
   "source": [
    "point1 = Point(3, 4)\n",
    "point2 = Point(6, 7)"
   ]
  },
  {
   "cell_type": "markdown",
   "id": "7e5e5ad8",
   "metadata": {},
   "source": [
    "##### <font color =red> * \"self\" is nothing but the object itself </font>\n",
    "##### <font color =red> * the \"self\" can be any name"
   ]
  },
  {
   "cell_type": "code",
   "execution_count": 60,
   "id": "1413bca2",
   "metadata": {},
   "outputs": [],
   "source": [
    "class Point:\n",
    "    \n",
    "    def __init__(this_object, x, y):\n",
    "        this_object.x = x\n",
    "        this_object.y = y "
   ]
  },
  {
   "cell_type": "code",
   "execution_count": 62,
   "id": "0941f5f5",
   "metadata": {},
   "outputs": [
    {
     "data": {
      "text/plain": [
       "6"
      ]
     },
     "execution_count": 62,
     "metadata": {},
     "output_type": "execute_result"
    }
   ],
   "source": [
    "Point(6,9).x # this object point to self actually "
   ]
  },
  {
   "cell_type": "markdown",
   "id": "a2d62ae5",
   "metadata": {},
   "source": [
    "### More about \"self\""
   ]
  },
  {
   "cell_type": "code",
   "execution_count": 67,
   "id": "9e645185",
   "metadata": {},
   "outputs": [],
   "source": [
    "class Person:\n",
    "    def __init__(self, n, a):\n",
    "        self.name = n # the name doesn't have to be same, i.e. self.n = n\n",
    "        self.a = a # But it's good practice to have the same name"
   ]
  },
  {
   "cell_type": "code",
   "execution_count": 65,
   "id": "1ab1ff0a",
   "metadata": {},
   "outputs": [],
   "source": [
    "person1 = Person(\"John\", 65)"
   ]
  },
  {
   "cell_type": "code",
   "execution_count": 66,
   "id": "bd4fde87",
   "metadata": {},
   "outputs": [
    {
     "data": {
      "text/plain": [
       "'John'"
      ]
     },
     "execution_count": 66,
     "metadata": {},
     "output_type": "execute_result"
    }
   ],
   "source": [
    "person1.name"
   ]
  },
  {
   "cell_type": "markdown",
   "id": "0c302a06",
   "metadata": {},
   "source": [
    "---"
   ]
  },
  {
   "cell_type": "code",
   "execution_count": 84,
   "id": "5403ebeb",
   "metadata": {},
   "outputs": [],
   "source": [
    "class Point:\n",
    "    \n",
    "    def __init__(self, x, y):\n",
    "        self.x = x\n",
    "        self.y = y\n",
    "    \n",
    "    # a method to determine if the point object inside the rectangle\n",
    "    def falls_in_rectangle(self, lowleft, upright): # lowleft and upright here are tuples\n",
    "        if lowleft[0] < self.x < upright[0] \\\n",
    "        and lowleft[1] < self.y < upright[1]: # self point to point1 or point2 object instance we created\n",
    "            return True\n",
    "        else:\n",
    "            return False\n",
    "    "
   ]
  },
  {
   "cell_type": "code",
   "execution_count": 81,
   "id": "a5b2ef84",
   "metadata": {},
   "outputs": [],
   "source": [
    "point2 = Point(3, 4)"
   ]
  },
  {
   "cell_type": "code",
   "execution_count": 82,
   "id": "1ed88915",
   "metadata": {},
   "outputs": [
    {
     "data": {
      "text/plain": [
       "False"
      ]
     },
     "execution_count": 82,
     "metadata": {},
     "output_type": "execute_result"
    }
   ],
   "source": [
    "point2.falls_in_rectangle((5, 6), (7, 9)) # call the method to determine if point2 inside rectangle"
   ]
  },
  {
   "cell_type": "code",
   "execution_count": 83,
   "id": "d86dbc6d",
   "metadata": {},
   "outputs": [
    {
     "data": {
      "text/plain": [
       "True"
      ]
     },
     "execution_count": 83,
     "metadata": {},
     "output_type": "execute_result"
    }
   ],
   "source": [
    "Point(3, 4).falls_in_rectangle((1, 1), (6, 6))"
   ]
  },
  {
   "cell_type": "markdown",
   "id": "7696f79b",
   "metadata": {},
   "source": [
    "### __init__ Method vs Normal Method"
   ]
  },
  {
   "cell_type": "code",
   "execution_count": 102,
   "id": "1af574fb",
   "metadata": {},
   "outputs": [],
   "source": [
    "class Point:\n",
    "    \n",
    "    def __init__(self, x, y):\n",
    "        print(\"Hey, I am __init__!\")\n",
    "        self.x = x\n",
    "        self.y = y\n",
    "    \n",
    "    def falls_in_rectangle(self, lowleft: tuple, upright: tuple) -> bool: # tuple and bool keywords here are optional\n",
    "        print(\"I am ordinary!\")\n",
    "        if lowleft[0] < self.x < upright[0] \\\n",
    "        and lowleft[1] < self.y < upright[1]: \n",
    "            return True\n",
    "        else:\n",
    "            return False\n",
    "    "
   ]
  },
  {
   "cell_type": "markdown",
   "id": "19dc2087",
   "metadata": {},
   "source": [
    "\n",
    "##### <font color =red> - Whenever create an object using the blueprint/class, the __init__ function will be executed. \n",
    "##### <font color =red> - And, the ordinary method will only be executed only when we call that method explicitly."
   ]
  },
  {
   "cell_type": "code",
   "execution_count": 103,
   "id": "7d9dcded",
   "metadata": {},
   "outputs": [
    {
     "name": "stdout",
     "output_type": "stream",
     "text": [
      "Hey, I am __init__!\n"
     ]
    }
   ],
   "source": [
    "point = Point(3, 5) "
   ]
  },
  {
   "cell_type": "code",
   "execution_count": 104,
   "id": "11319282",
   "metadata": {},
   "outputs": [
    {
     "name": "stdout",
     "output_type": "stream",
     "text": [
      "I am ordinary!\n"
     ]
    },
    {
     "data": {
      "text/plain": [
       "True"
      ]
     },
     "execution_count": 104,
     "metadata": {},
     "output_type": "execute_result"
    }
   ],
   "source": [
    "point.falls_in_rectangle((1, 3), (8, 9)) # ordinary method only be executed when they are called"
   ]
  },
  {
   "cell_type": "markdown",
   "id": "79c24a65",
   "metadata": {},
   "source": [
    "---\n",
    "### Assignment:\n",
    "Add a \"distance\" Method (Assignment)\n",
    "Add a new distance method to the Point class. The method should calculate the distance from the coordinates of the current point (i.e., the self.x and self.y coordinates) to the coordinates of any other given point, and such coordinates can be provided as x and y arguments to the distance method."
   ]
  },
  {
   "cell_type": "code",
   "execution_count": 114,
   "id": "40fcfefb",
   "metadata": {},
   "outputs": [],
   "source": [
    "class Point:\n",
    "    \n",
    "    def __init__(self, x, y):\n",
    "        print(\"Hey, I am __init__!\")\n",
    "        self.x = x\n",
    "        self.y = y\n",
    "    \n",
    "    def falls_in_rectangle(self, lowleft, upright): # tuple and bool keywords here are optional\n",
    "        print(\"I am ordinary!\")\n",
    "        if lowleft[0] < self.x < upright[0] \\\n",
    "        and lowleft[1] < self.y < upright[1]: \n",
    "            return True\n",
    "        else:\n",
    "            return False\n",
    "        \n",
    "    def distance_from_point(self, x, y):\n",
    "        \n",
    "        length = ((self.x - x)**2 + (self.y -y)**2)**0.5\n",
    "        \n",
    "        return length\n",
    "    "
   ]
  },
  {
   "cell_type": "code",
   "execution_count": 115,
   "id": "a8a3cefd",
   "metadata": {},
   "outputs": [
    {
     "name": "stdout",
     "output_type": "stream",
     "text": [
      "Hey, I am __init__!\n"
     ]
    }
   ],
   "source": [
    "point3 = Point(1, 3)"
   ]
  },
  {
   "cell_type": "code",
   "execution_count": 116,
   "id": "e4a4b552",
   "metadata": {},
   "outputs": [
    {
     "data": {
      "text/plain": [
       "3.0"
      ]
     },
     "execution_count": 116,
     "metadata": {},
     "output_type": "execute_result"
    }
   ],
   "source": [
    "point3.distance_from_point(4, 3)"
   ]
  },
  {
   "cell_type": "markdown",
   "id": "293a49d6",
   "metadata": {},
   "source": [
    "<font color = red size= 4> How about we pass the other point object instead of two parameters ?"
   ]
  },
  {
   "cell_type": "code",
   "execution_count": 144,
   "id": "c9ecb279",
   "metadata": {},
   "outputs": [],
   "source": [
    "class Point:\n",
    "    \n",
    "    def __init__(self, x, y):\n",
    "        print(\"Hey, I am __init__!\")\n",
    "        self.x = x\n",
    "        self.y = y\n",
    "    \n",
    "    def falls_in_rectangle(self, lowleft, upright): # tuple and bool keywords here are optional\n",
    "        print(\"I am ordinary!\")\n",
    "        if lowleft[0] < self.x < upright[0] \\\n",
    "        and lowleft[1] < self.y < upright[1]: \n",
    "            return True\n",
    "        else:\n",
    "            return False\n",
    "        \n",
    "    def distance_from_point(self, point_2):\n",
    "        \n",
    "        length = ((self.x - point_2.x)**2 + (self.y -point_2.y)**2)**0.5\n",
    "        \n",
    "        return length\n",
    "    "
   ]
  },
  {
   "cell_type": "code",
   "execution_count": 145,
   "id": "5df31bbd",
   "metadata": {},
   "outputs": [
    {
     "name": "stdout",
     "output_type": "stream",
     "text": [
      "Hey, I am __init__!\n"
     ]
    }
   ],
   "source": [
    "point4 = Point(3, 4)\n"
   ]
  },
  {
   "cell_type": "code",
   "execution_count": 146,
   "id": "17e4222d",
   "metadata": {},
   "outputs": [
    {
     "name": "stdout",
     "output_type": "stream",
     "text": [
      "Hey, I am __init__!\n"
     ]
    }
   ],
   "source": [
    "point5 = Point(4, 6)"
   ]
  },
  {
   "cell_type": "code",
   "execution_count": 148,
   "id": "a3c3ed28",
   "metadata": {},
   "outputs": [
    {
     "data": {
      "text/plain": [
       "2.23606797749979"
      ]
     },
     "execution_count": 148,
     "metadata": {},
     "output_type": "execute_result"
    }
   ],
   "source": [
    "point5.distance_from_point(point4)"
   ]
  },
  {
   "cell_type": "markdown",
   "id": "bad88139",
   "metadata": {},
   "source": [
    "---\n",
    "### Rectangle Class"
   ]
  },
  {
   "cell_type": "code",
   "execution_count": 149,
   "id": "e17133ee",
   "metadata": {},
   "outputs": [],
   "source": [
    "class Point:\n",
    "    \n",
    "    def __init__(self, x, y):\n",
    "   \n",
    "        self.x = x\n",
    "        self.y = y\n",
    "    \n",
    "    def falls_in_rectangle(self, lowleft, upright): # tuple and bool keywords here are optional\n",
    "       \n",
    "        if lowleft[0] < self.x < upright[0] \\\n",
    "        and lowleft[1] < self.y < upright[1]: \n",
    "            return True\n",
    "        else:\n",
    "            return False"
   ]
  },
  {
   "cell_type": "code",
   "execution_count": 170,
   "id": "0e6f9707",
   "metadata": {},
   "outputs": [],
   "source": [
    "class Rectangle:\n",
    "    \n",
    "    def __init__(self, lowerleft, upperright): # lowleft and upwrite are point object here\n",
    "        self.lowerleft = lowerleft\n",
    "        self.upperright = upperright "
   ]
  },
  {
   "cell_type": "code",
   "execution_count": 171,
   "id": "99df40fc",
   "metadata": {},
   "outputs": [],
   "source": [
    "pointx = Point(6,7)"
   ]
  },
  {
   "cell_type": "code",
   "execution_count": 172,
   "id": "da1f4eeb",
   "metadata": {},
   "outputs": [],
   "source": [
    "rectanglex = Rectangle(Point(5, 6), Point(7, 9)) # create an Rectangle object instance, with Point type parameters"
   ]
  },
  {
   "cell_type": "code",
   "execution_count": 173,
   "id": "b05f148d",
   "metadata": {},
   "outputs": [
    {
     "data": {
      "text/plain": [
       "__main__.Rectangle"
      ]
     },
     "execution_count": 173,
     "metadata": {},
     "output_type": "execute_result"
    }
   ],
   "source": [
    "type(rectanglex) # Rectangle class type"
   ]
  },
  {
   "cell_type": "code",
   "execution_count": 175,
   "id": "b523b31a",
   "metadata": {},
   "outputs": [
    {
     "name": "stdout",
     "output_type": "stream",
     "text": [
      "<__main__.Point object at 0x7fc185e1c9a0>\n"
     ]
    }
   ],
   "source": [
    "print(rectanglex.lowerleft) # since lowerleft is Point type parameter (instantiation), so it's Point type object"
   ]
  },
  {
   "cell_type": "code",
   "execution_count": 176,
   "id": "7d97d43a",
   "metadata": {},
   "outputs": [
    {
     "ename": "TypeError",
     "evalue": "falls_in_rectangle() missing 2 required positional arguments: 'lowleft' and 'upright'",
     "output_type": "error",
     "traceback": [
      "\u001b[0;31m---------------------------------------------------------------------------\u001b[0m",
      "\u001b[0;31mTypeError\u001b[0m                                 Traceback (most recent call last)",
      "\u001b[0;32m/var/folders/tb/qc06nbjn13339hgzlw98mkzw0000gn/T/ipykernel_73670/2914544607.py\u001b[0m in \u001b[0;36m<module>\u001b[0;34m\u001b[0m\n\u001b[0;32m----> 1\u001b[0;31m \u001b[0mpointx\u001b[0m\u001b[0;34m.\u001b[0m\u001b[0mfalls_in_rectangle\u001b[0m\u001b[0;34m(\u001b[0m\u001b[0;34m)\u001b[0m\u001b[0;34m\u001b[0m\u001b[0;34m\u001b[0m\u001b[0m\n\u001b[0m",
      "\u001b[0;31mTypeError\u001b[0m: falls_in_rectangle() missing 2 required positional arguments: 'lowleft' and 'upright'"
     ]
    }
   ],
   "source": [
    "pointx.falls_in_rectangle()"
   ]
  },
  {
   "cell_type": "markdown",
   "id": "d40fc1ce",
   "metadata": {},
   "source": [
    "<font color = blue size = 3> so we need to modify the original \"falls_in_rectangle()\" method, to take 1 parameter - rectangle, instead of 2 points."
   ]
  },
  {
   "cell_type": "code",
   "execution_count": 236,
   "id": "e585ebd7",
   "metadata": {},
   "outputs": [],
   "source": [
    "class Point:\n",
    "    \n",
    "    def __init__(self, x, y):\n",
    "   \n",
    "        self.x = x\n",
    "        self.y = y\n",
    "    \n",
    "    def falls_in_rectangle(self, rectangle: Rectangle) -> bool: # rectangle here is Rectangle class type, not compulsory to specify type with colon and return type.\n",
    "       \n",
    "        if rectangle.lowerleft.x < self.x < rectangle.upperright.x \\\n",
    "        and rectangle.lowerleft.y < self.y < rectangle.upperright.y: \n",
    "            return True\n",
    "        else:\n",
    "            return False"
   ]
  },
  {
   "cell_type": "code",
   "execution_count": 237,
   "id": "cf2d3450",
   "metadata": {},
   "outputs": [],
   "source": [
    "class Rectangle:\n",
    "    \n",
    "    def __init__(self, lowerleft, upperright): # lowleft and upwrite are point object here\n",
    "        self.lowerleft = lowerleft\n",
    "        self.upperright = upperright "
   ]
  },
  {
   "cell_type": "code",
   "execution_count": 238,
   "id": "70d2ec26",
   "metadata": {},
   "outputs": [],
   "source": [
    "pointx = Point(6,7)"
   ]
  },
  {
   "cell_type": "code",
   "execution_count": 239,
   "id": "7e618722",
   "metadata": {},
   "outputs": [],
   "source": [
    "rectanglex = Rectangle(Point(5, 6), Point(7, 9))"
   ]
  },
  {
   "cell_type": "code",
   "execution_count": 240,
   "id": "6d43d907",
   "metadata": {},
   "outputs": [
    {
     "data": {
      "text/plain": [
       "__main__.Rectangle"
      ]
     },
     "execution_count": 240,
     "metadata": {},
     "output_type": "execute_result"
    }
   ],
   "source": [
    "type(rectanglex)"
   ]
  },
  {
   "cell_type": "code",
   "execution_count": 241,
   "id": "be64e35c",
   "metadata": {},
   "outputs": [
    {
     "data": {
      "text/plain": [
       "True"
      ]
     },
     "execution_count": 241,
     "metadata": {},
     "output_type": "execute_result"
    }
   ],
   "source": [
    "pointx.falls_in_rectangle(rectanglex)"
   ]
  },
  {
   "cell_type": "markdown",
   "id": "24e2cdba",
   "metadata": {},
   "source": [
    "### Wrapping Everything Up"
   ]
  },
  {
   "cell_type": "code",
   "execution_count": 277,
   "id": "0e803f23",
   "metadata": {},
   "outputs": [],
   "source": [
    "class Point:\n",
    "    \n",
    "    def __init__(self, x, y):\n",
    "   \n",
    "        self.x = x\n",
    "        self.y = y\n",
    "        \n",
    "    def falls_in_rectangle(self, rectangle): # rectangle here is Rectangle class type, not compulsory to specify type with colon and return type.\n",
    "       \n",
    "        if rectangle.lowleft.x < self.x < rectangle.upright.x \\\n",
    "        and rectangle.lowleft.y < self.y < rectangle.upright.y: \n",
    "            return True\n",
    "        else:\n",
    "            return False\n",
    "        \n",
    "class Rectangle:\n",
    "    def __init__(self, lowleft, upright):\n",
    "        self.lowleft = lowleft\n",
    "        self.upright = upright"
   ]
  },
  {
   "cell_type": "code",
   "execution_count": 278,
   "id": "73382a3f",
   "metadata": {},
   "outputs": [],
   "source": [
    "from random import randint\n",
    "\n",
    "#randomly generate a rectangle object\n",
    "rectangle = Rectangle(\n",
    "            Point(randint(0, 9), randint(0, 9)),\n",
    "            Point(randint(10, 19), randint(10, 19)))"
   ]
  },
  {
   "cell_type": "code",
   "execution_count": 279,
   "id": "31749c78",
   "metadata": {},
   "outputs": [
    {
     "name": "stdout",
     "output_type": "stream",
     "text": [
      "Rectangle Coordinates: ( 4 , 5 ), and ( 14 , 18 )\n"
     ]
    }
   ],
   "source": [
    "print(\"Rectangle Coordinates: (\",\n",
    "     rectangle.lowleft.x, \",\",\n",
    "     rectangle.lowleft.y, \"), and (\",\n",
    "     rectangle.upright.x, \",\",\n",
    "     rectangle.upright.y, \")\")"
   ]
  },
  {
   "cell_type": "code",
   "execution_count": 282,
   "id": "61312617",
   "metadata": {},
   "outputs": [
    {
     "name": "stdout",
     "output_type": "stream",
     "text": [
      "Guess X: 12\n",
      "Guess Y: 7\n"
     ]
    }
   ],
   "source": [
    "# input a point\n",
    "\n",
    "user_point = Point(float(input(\"Guess X: \")),\n",
    "                  float(input(\"Guess Y: \")))"
   ]
  },
  {
   "cell_type": "code",
   "execution_count": 283,
   "id": "66fdae01",
   "metadata": {},
   "outputs": [
    {
     "name": "stdout",
     "output_type": "stream",
     "text": [
      "Your point was inside rectangle:  True\n"
     ]
    }
   ],
   "source": [
    "print(\"Your point was inside rectangle: \", user_point.falls_in_rectangle(rectangle))"
   ]
  },
  {
   "cell_type": "markdown",
   "id": "ae2bc0f4",
   "metadata": {},
   "source": [
    "### Add feature - method of getting area of the rectangle"
   ]
  },
  {
   "cell_type": "code",
   "execution_count": 324,
   "id": "d3c8d87a",
   "metadata": {},
   "outputs": [],
   "source": [
    "class Point:\n",
    "    \n",
    "    def __init__(self, x, y):\n",
    "   \n",
    "        self.x = x\n",
    "        self.y = y\n",
    "        \n",
    "    def falls_in_rectangle(self, rectangle): # rectangle here is Rectangle class type, not compulsory to specify type with colon and return type.\n",
    "       \n",
    "        if rectangle.lowleft.x < self.x < rectangle.upright.x \\\n",
    "        and rectangle.lowleft.y < self.y < rectangle.upright.y: \n",
    "            return True\n",
    "        else:\n",
    "            return False\n",
    "        \n",
    "class Rectangle:\n",
    "    def __init__(self, lowleft, upright): # take two Point class object/attribute (Point object has attribute x and y)\n",
    "        self.lowleft = lowleft\n",
    "        self.upright = upright\n",
    "        \n",
    "    def get_area(self):\n",
    "        return (self.upright.x - self.lowleft.x)*(self.upright.y - self.lowleft.y) #Point object has attribute x and y"
   ]
  },
  {
   "cell_type": "code",
   "execution_count": 325,
   "id": "2b5e3246",
   "metadata": {},
   "outputs": [],
   "source": [
    "rectangleA = Rectangle(Point(3, 4), Point(5, 9))"
   ]
  },
  {
   "cell_type": "code",
   "execution_count": 323,
   "id": "f05b6490",
   "metadata": {},
   "outputs": [
    {
     "name": "stdout",
     "output_type": "stream",
     "text": [
      "<class '__main__.Point'>\n",
      "<class 'int'>\n"
     ]
    }
   ],
   "source": [
    "print(type(rectangleA.lowleft))\n",
    "print(type(rectangleA.lowleft.x))"
   ]
  },
  {
   "cell_type": "code",
   "execution_count": 321,
   "id": "c56ebca9",
   "metadata": {},
   "outputs": [
    {
     "data": {
      "text/plain": [
       "10"
      ]
     },
     "execution_count": 321,
     "metadata": {},
     "output_type": "execute_result"
    }
   ],
   "source": [
    "rectangleA.get_area()"
   ]
  },
  {
   "cell_type": "code",
   "execution_count": null,
   "id": "8cf65ce5",
   "metadata": {},
   "outputs": [],
   "source": []
  }
 ],
 "metadata": {
  "kernelspec": {
   "display_name": "Python 3 (ipykernel)",
   "language": "python",
   "name": "python3"
  },
  "language_info": {
   "codemirror_mode": {
    "name": "ipython",
    "version": 3
   },
   "file_extension": ".py",
   "mimetype": "text/x-python",
   "name": "python",
   "nbconvert_exporter": "python",
   "pygments_lexer": "ipython3",
   "version": "3.8.11"
  }
 },
 "nbformat": 4,
 "nbformat_minor": 5
}
